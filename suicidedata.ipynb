{
  "nbformat": 4,
  "nbformat_minor": 0,
  "metadata": {
    "colab": {
      "name": "Untitled1.ipynb",
      "provenance": [],
      "authorship_tag": "ABX9TyOuC2/auXvMegTNoxJIQUzu",
      "include_colab_link": true
    },
    "kernelspec": {
      "name": "python3",
      "display_name": "Python 3"
    },
    "language_info": {
      "name": "python"
    }
  },
  "cells": [
    {
      "cell_type": "markdown",
      "metadata": {
        "id": "view-in-github",
        "colab_type": "text"
      },
      "source": [
        "<a href=\"https://colab.research.google.com/github/wambu2021/INTROR/blob/main/suicidedata.ipynb\" target=\"_parent\"><img src=\"https://colab.research.google.com/assets/colab-badge.svg\" alt=\"Open In Colab\"/></a>"
      ]
    },
    {
      "cell_type": "code",
      "metadata": {
        "id": "JJTFuLTXUiVs"
      },
      "source": [
        ""
      ],
      "execution_count": null,
      "outputs": []
    },
    {
      "cell_type": "code",
      "metadata": {
        "id": "ku-L9tw1HAA6",
        "colab": {
          "base_uri": "https://localhost:8080/",
          "height": 204
        },
        "outputId": "3f0a6943-bbac-45ea-fc9f-9fd8f0ca5360"
      },
      "source": [
        "# Read CSV file using pandas\n",
        "import pandas as pd\n",
        "df=pd.read_csv('/content/SuicidesIndia.csv')\n",
        "df.head()"
      ],
      "execution_count": 1,
      "outputs": [
        {
          "output_type": "execute_result",
          "data": {
            "text/html": [
              "<div>\n",
              "<style scoped>\n",
              "    .dataframe tbody tr th:only-of-type {\n",
              "        vertical-align: middle;\n",
              "    }\n",
              "\n",
              "    .dataframe tbody tr th {\n",
              "        vertical-align: top;\n",
              "    }\n",
              "\n",
              "    .dataframe thead th {\n",
              "        text-align: right;\n",
              "    }\n",
              "</style>\n",
              "<table border=\"1\" class=\"dataframe\">\n",
              "  <thead>\n",
              "    <tr style=\"text-align: right;\">\n",
              "      <th></th>\n",
              "      <th>State</th>\n",
              "      <th>Year</th>\n",
              "      <th>Type_code</th>\n",
              "      <th>Type</th>\n",
              "      <th>Gender</th>\n",
              "      <th>Age_group</th>\n",
              "      <th>Total</th>\n",
              "    </tr>\n",
              "  </thead>\n",
              "  <tbody>\n",
              "    <tr>\n",
              "      <th>0</th>\n",
              "      <td>A &amp; N Islands</td>\n",
              "      <td>2001</td>\n",
              "      <td>Causes</td>\n",
              "      <td>Illness (Aids/STD)</td>\n",
              "      <td>Female</td>\n",
              "      <td>0-14</td>\n",
              "      <td>0.0</td>\n",
              "    </tr>\n",
              "    <tr>\n",
              "      <th>1</th>\n",
              "      <td>A &amp; N Islands</td>\n",
              "      <td>2001</td>\n",
              "      <td>Causes</td>\n",
              "      <td>Bankruptcy or Sudden change in Economic</td>\n",
              "      <td>Female</td>\n",
              "      <td>0-14</td>\n",
              "      <td>0.0</td>\n",
              "    </tr>\n",
              "    <tr>\n",
              "      <th>2</th>\n",
              "      <td>A &amp; N Islands</td>\n",
              "      <td>2001</td>\n",
              "      <td>Causes</td>\n",
              "      <td>Cancellation/Non-Settlement of Marriage</td>\n",
              "      <td>Female</td>\n",
              "      <td>0-14</td>\n",
              "      <td>0.0</td>\n",
              "    </tr>\n",
              "    <tr>\n",
              "      <th>3</th>\n",
              "      <td>A &amp; N Islands</td>\n",
              "      <td>2001</td>\n",
              "      <td>Causes</td>\n",
              "      <td>Physical Abuse (Rape/Incest Etc.)</td>\n",
              "      <td>Female</td>\n",
              "      <td>0-14</td>\n",
              "      <td>0.0</td>\n",
              "    </tr>\n",
              "    <tr>\n",
              "      <th>4</th>\n",
              "      <td>A &amp; N Islands</td>\n",
              "      <td>2001</td>\n",
              "      <td>Causes</td>\n",
              "      <td>Dowry Dispute</td>\n",
              "      <td>Female</td>\n",
              "      <td>0-14</td>\n",
              "      <td>0.0</td>\n",
              "    </tr>\n",
              "  </tbody>\n",
              "</table>\n",
              "</div>"
            ],
            "text/plain": [
              "           State  Year Type_code  ...  Gender Age_group Total\n",
              "0  A & N Islands  2001    Causes  ...  Female      0-14   0.0\n",
              "1  A & N Islands  2001    Causes  ...  Female      0-14   0.0\n",
              "2  A & N Islands  2001    Causes  ...  Female      0-14   0.0\n",
              "3  A & N Islands  2001    Causes  ...  Female      0-14   0.0\n",
              "4  A & N Islands  2001    Causes  ...  Female      0-14   0.0\n",
              "\n",
              "[5 rows x 7 columns]"
            ]
          },
          "metadata": {},
          "execution_count": 1
        }
      ]
    },
    {
      "cell_type": "code",
      "metadata": {
        "id": "bIlZUvAbVCH5"
      },
      "source": [
        ""
      ],
      "execution_count": null,
      "outputs": []
    }
  ]
}