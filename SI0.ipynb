{
  "nbformat": 4,
  "nbformat_minor": 0,
  "metadata": {
    "colab": {
      "name": "Untitled0.ipynb",
      "provenance": [],
      "authorship_tag": "ABX9TyNdm9Qq53PLP6di2su8OtEl",
      "include_colab_link": true
    },
    "kernelspec": {
      "name": "python3",
      "display_name": "Python 3"
    },
    "language_info": {
      "name": "python"
    }
  },
  "cells": [
    {
      "cell_type": "markdown",
      "metadata": {
        "id": "view-in-github",
        "colab_type": "text"
      },
      "source": [
        "<a href=\"https://colab.research.google.com/github/wambu2021/INTROR/blob/main/SI0.ipynb\" target=\"_parent\"><img src=\"https://colab.research.google.com/assets/colab-badge.svg\" alt=\"Open In Colab\"/></a>"
      ]
    },
    {
      "cell_type": "code",
      "metadata": {
        "colab": {
          "base_uri": "https://localhost:8080/"
        },
        "id": "P0x2NIZmhQ4p",
        "outputId": "d5bc4e7b-c226-488e-95a0-49f6d79a11f9"
      },
      "source": [
        "print(\"hello\")"
      ],
      "execution_count": null,
      "outputs": [
        {
          "output_type": "stream",
          "name": "stdout",
          "text": [
            "hello\n"
          ]
        }
      ]
    },
    {
      "cell_type": "markdown",
      "metadata": {
        "id": "Q10VrdXJmrWF"
      },
      "source": [
        "Letter | Digit | Character\n",
        "------ | ------|----------\n",
        "a      | 4     | $\n",
        "       | 365   | (\n",
        "b      |       | ^  "
      ]
    },
    {
      "cell_type": "markdown",
      "metadata": {
        "id": "rDRK1UVhm5qC"
      },
      "source": [
        ""
      ]
    },
    {
      "cell_type": "code",
      "metadata": {
        "colab": {
          "base_uri": "https://localhost:8080/"
        },
        "id": "NtOb_N-Tm8IS",
        "outputId": "61962d34-9b1d-4d83-d8ac-001d3602113a"
      },
      "source": [
        "a=12\n",
        "b=8\n",
        "c = b + a\n",
        "print(c)"
      ],
      "execution_count": null,
      "outputs": [
        {
          "output_type": "stream",
          "name": "stdout",
          "text": [
            "20\n"
          ]
        }
      ]
    },
    {
      "cell_type": "code",
      "metadata": {
        "colab": {
          "base_uri": "https://localhost:8080/"
        },
        "id": "gQLt_Rp9nU45",
        "outputId": "b1a4ad9c-fa4b-4a2e-fda7-f3593a5cba50"
      },
      "source": [
        "a=20\n",
        "b=18\n",
        "c=a-b \n",
        "print (a-b)"
      ],
      "execution_count": null,
      "outputs": [
        {
          "output_type": "stream",
          "name": "stdout",
          "text": [
            "2\n"
          ]
        }
      ]
    },
    {
      "cell_type": "code",
      "metadata": {
        "colab": {
          "base_uri": "https://localhost:8080/"
        },
        "id": "sO2GedDXoEGa",
        "outputId": "3a71929a-bd65-4907-b0bd-097c3c072164"
      },
      "source": [
        "a=12\n",
        "b=8\n",
        "c=a*b\n",
        "print (c)"
      ],
      "execution_count": null,
      "outputs": [
        {
          "output_type": "stream",
          "name": "stdout",
          "text": [
            "96\n"
          ]
        }
      ]
    },
    {
      "cell_type": "code",
      "metadata": {
        "colab": {
          "base_uri": "https://localhost:8080/"
        },
        "id": "DXe3NSttof36",
        "outputId": "8c57921e-cf37-4f57-8cc5-5d30ea8f9892"
      },
      "source": [
        "a=14\n",
        "b=92\n",
        "c=a/b\n",
        "print (c)"
      ],
      "execution_count": null,
      "outputs": [
        {
          "output_type": "stream",
          "name": "stdout",
          "text": [
            "0.15217391304347827\n"
          ]
        }
      ]
    },
    {
      "cell_type": "code",
      "metadata": {
        "colab": {
          "base_uri": "https://localhost:8080/"
        },
        "id": "9XhgwaSbzIk6",
        "outputId": "2b0811be-bf6f-4c88-9261-c2f8219c7aee"
      },
      "source": [
        "# Store input numbers\n",
        "b = input('Enter b: ')\n",
        "h = input('Enter h: ')\n",
        "\n",
        "# Add two numbers\n",
        "Area = 0.5*float(b) * float(h)\n",
        "\n",
        "# Display the sum\n",
        "print('The Area of triangle base and height is {0} and {1} is {2}'.format(b, h, Area))"
      ],
      "execution_count": 17,
      "outputs": [
        {
          "output_type": "stream",
          "name": "stdout",
          "text": [
            "Enter b: 18\n",
            "Enter h: 6\n",
            "The Area of triangle base and height is 18 and 6 is 54.0\n"
          ]
        }
      ]
    },
    {
      "cell_type": "code",
      "metadata": {
        "id": "vpUgiy_92kLn"
      },
      "source": [
        ""
      ],
      "execution_count": null,
      "outputs": []
    },
    {
      "cell_type": "code",
      "metadata": {
        "id": "DKZNVhKg2Z_x"
      },
      "source": [
        ""
      ],
      "execution_count": null,
      "outputs": []
    },
    {
      "cell_type": "code",
      "metadata": {
        "colab": {
          "base_uri": "https://localhost:8080/"
        },
        "id": "AA2y3OQI2dsc",
        "outputId": "ee560467-521a-4b8c-8b0d-aa2759370271"
      },
      "source": [
        "# Store input numbers\n",
        "\n",
        "r = input('Enter r: ')\n",
        "\n",
        "# Add two numbers\n",
        "AreaC= 3.14 * float(r) **2\n",
        "\n",
        "print('The AreaC  {0} and {1} '.format(r, Area))"
      ],
      "execution_count": 23,
      "outputs": [
        {
          "output_type": "stream",
          "name": "stdout",
          "text": [
            "Enter r: 5\n",
            "The AreaC  5 and 54.0 \n"
          ]
        }
      ]
    },
    {
      "cell_type": "code",
      "metadata": {
        "colab": {
          "base_uri": "https://localhost:8080/"
        },
        "id": "Z7G6sFYF5WZe",
        "outputId": "638e88ef-bd28-4710-a350-ff7f8eee1c00"
      },
      "source": [
        "C=3.14 * (2)**float(r)\n",
        "C"
      ],
      "execution_count": 28,
      "outputs": [
        {
          "output_type": "execute_result",
          "data": {
            "text/plain": [
              "100.48"
            ]
          },
          "metadata": {},
          "execution_count": 28
        }
      ]
    },
    {
      "cell_type": "code",
      "metadata": {
        "colab": {
          "base_uri": "https://localhost:8080/",
          "height": 35
        },
        "id": "Ojzu1lvy57cX",
        "outputId": "4e77a498-6d56-4df8-dce6-6da4497e5f33"
      },
      "source": [
        "r"
      ],
      "execution_count": 26,
      "outputs": [
        {
          "output_type": "execute_result",
          "data": {
            "application/vnd.google.colaboratory.intrinsic+json": {
              "type": "string"
            },
            "text/plain": [
              "'5'"
            ]
          },
          "metadata": {},
          "execution_count": 26
        }
      ]
    },
    {
      "cell_type": "code",
      "metadata": {
        "colab": {
          "base_uri": "https://localhost:8080/"
        },
        "id": "TknIruef6N32",
        "outputId": "56171739-d72d-49a0-8719-d84b09d02288"
      },
      "source": [
        "\n",
        "P=8\n",
        "T=16\n",
        "R=12\n",
        "SI = (P * T * R)/100\n",
        "print (SI)\n"
      ],
      "execution_count": 31,
      "outputs": [
        {
          "output_type": "stream",
          "name": "stdout",
          "text": [
            "15.36\n"
          ]
        }
      ]
    }
  ]
}